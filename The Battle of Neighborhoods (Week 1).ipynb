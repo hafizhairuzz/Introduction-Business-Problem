{
    "cells": [
        {
            "cell_type": "markdown",
            "metadata": {
                "collapsed": true
            },
            "source": "# The Battle of Neighborhoods | Business Problem"
        },
        {
            "cell_type": "markdown",
            "metadata": {},
            "source": "## Introduction:"
        },
        {
            "cell_type": "markdown",
            "metadata": {},
            "source": "This project is aiming to help newcomers making the best and efficient decision on selecting great neighborhoods out of numbers of other neighborhoods in Scarborough, Toronto. \n\nThere are many reasons why people move or migrate to another place but many of them also may struggle to find the best place to move in. due to some necessary facilities. This project is for those people who are looking for better neighborhoods and facilities such as a school for their children, safety, or maybe an easy excess for transportation and maybe some tired of poor basic resources and finding a better place with better resources.\n\nThis project aims to create an analysis of features for people migrating to Scarborough to search the best neighborhood as a comparative analysis between neighborhoods. The features include median housing price and better school according to ratings, crime rates of that particular area, road connectivity, weather conditions, good management for an emergency, water resources both fresh and wastewater, and excrement conveyed in sewers and recreational facilities.\n\nIt will help people to get the awareness of the area and neighborhood before moving to a new city, state, country or place for their work or to start a new fresh life"
        },
        {
            "cell_type": "markdown",
            "metadata": {},
            "source": "## Target Audience"
        },
        {
            "cell_type": "markdown",
            "metadata": {},
            "source": "This project is aiming to help _newcomers_ that mirgrating to Scarborough and also the _city developer_ to have a better look in the current city enviroment and facilities"
        },
        {
            "cell_type": "markdown",
            "metadata": {},
            "source": "## Problem Statement"
        },
        {
            "cell_type": "markdown",
            "metadata": {},
            "source": "<p5>As mention in the introduction this project will helping people decide the better neighborhood in a new city for the person who are shiffting there. Social presence in society in terms of like minded people. Connectivity to the airport, bus stand, city center, markets and other daily needs things nearby.</p5>\n\n&nbsp; &nbsp; 1.Sorted list of house in terms of housing prices in a ascending or descending order\n\n&nbsp; &nbsp; 2.Sorted list of schools in terms of location, fees, rating and reviews"
        },
        {
            "cell_type": "markdown",
            "metadata": {},
            "source": "## Target Place"
        },
        {
            "cell_type": "markdown",
            "metadata": {},
            "source": "Scarborough is a popular destination for new immigrants in Canada to reside. As a result, it is one of the most diverse and multicultural areas in the Greater Toronto Area, being home to various religious groups and places of worship. Although immigration has become a hot topic over the past few years with more governments seeking more restrictions on immigrants and refugees, the general trend of immigration into Canada has been one of on the rise."
        },
        {
            "cell_type": "markdown",
            "metadata": {},
            "source": "## Methodology"
        },
        {
            "cell_type": "markdown",
            "metadata": {},
            "source": "*  **Foursquare API:**\nThis project would use Four-square API as its prime data gathering source as it has a database of millions of places, especially their places API which provides the ability to perform location search, location sharing and details about a business.\n\n*  **Work Flow:**\nUsing credentials of Foursquare API features of near-by places of the neighborhoods would be mined. Due to http request limitations the number of places per neighborhood parameter would reasonably be set to 100 and the radius parameter would be set to 500.\n\n* **Clustering Approach:**\nTo compare the similarities of two cities, we decided to explore neighborhoods, segment them, and group them into clusters to find similar neighborhoods in a big city like New York and Toronto. To be able to do that, we need to cluster data which is a form of unsupervised machine learning: k-means clustering algorithm\n\n*  **Libraries Which are Used to Develope the Project:**\n\n&nbsp; &nbsp; 1.Pandas: For creating and manipulating dataframes.\n\n&nbsp; &nbsp; 2.Folium: Python visualization library would be used to visualize the neighborhoods cluster distribution of using interactive leaflet map.\n\n&nbsp; &nbsp; 3.Scikit Learn: For importing k-means clustering.\n\n&nbsp; &nbsp; 4.JSON: Library to handle JSON files.\n\n&nbsp; &nbsp; 5.XML: To separate data from presentation and XML stores data in plain text format.\n\n&nbsp; &nbsp; 6.Geocoder: To retrieve Location Data.\n\n&nbsp; &nbsp; 7.Beautiful Soup and Requests: To scrap and library to handle http requests.\n\n&nbsp; &nbsp; 8.Matplotlib: Python Plotting Module.\n"
        },
        {
            "cell_type": "code",
            "execution_count": null,
            "metadata": {},
            "outputs": [],
            "source": ""
        }
    ],
    "metadata": {
        "kernelspec": {
            "display_name": "Python 3.6",
            "language": "python",
            "name": "python3"
        },
        "language_info": {
            "codemirror_mode": {
                "name": "ipython",
                "version": 3
            },
            "file_extension": ".py",
            "mimetype": "text/x-python",
            "name": "python",
            "nbconvert_exporter": "python",
            "pygments_lexer": "ipython3",
            "version": "3.6.9"
        }
    },
    "nbformat": 4,
    "nbformat_minor": 1
}
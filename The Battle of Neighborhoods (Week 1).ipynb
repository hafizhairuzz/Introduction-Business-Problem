{
    "cells": [
        {
            "cell_type": "markdown",
            "metadata": {
                "collapsed": true
            },
            "source": "# The Battle of Neighborhoods | Business Problem"
        },
        {
            "cell_type": "markdown",
            "metadata": {},
            "source": "## Introduction:"
        },
        {
            "cell_type": "markdown",
            "metadata": {},
            "source": "In this project we will try to find an all places that have been categorise as **'Halal' place** in the map. It is to help the muslim Traveler to see the where the place they can go and also for the Muslim Travel agency to plan up a good package for their Business.\n\nIslam people or muslim is one of the religion that have a strict selection of **food and places** due to their believe and reliegion matter. However, the number of muslim traveler is rising up in this few dacade, so we decided to analyze the halal places that may the muslim traveler and business  traveler agency want to visit.\n\nAlthough there are many website that suggesting places to visit for muslim, but there is a question problem that how much places in New York are actually listed as **Halal in the map**."
        },
        {
            "cell_type": "markdown",
            "metadata": {},
            "source": "## Target Audience"
        },
        {
            "cell_type": "markdown",
            "metadata": {},
            "source": "This project is aiming to help __ that mirgrating to Selangor and also the _city developer_ to have a better look in the current city enviroment and facilities"
        },
        {
            "cell_type": "markdown",
            "metadata": {},
            "source": "## Problem Statement"
        },
        {
            "cell_type": "markdown",
            "metadata": {},
            "source": "Based on definition of our problem, factors that will influence our decission are:\n* number of existing halal places in New York\n* distance of neighborhood from city center\n\nWe decided to use regularly spaced grid of locations, centered around city center, to define our neighborhoods.\n\nFollowing data sources will be needed to extract/generate the required information:\n\n* centers of candidate areas will be generated algorithmically and approximate addresses of centers of those areas will be obtained using **Google Maps API reverse geocoding**\n* number of restaurants and their type and location in every neighborhood will be obtained using **Foursquare API**\n* coordinate of Berlin center will be obtained using **Google Maps API geocoding** of well known Malaysia location (Kuala Lumpur)"
        },
        {
            "cell_type": "markdown",
            "metadata": {},
            "source": "## Target Place"
        },
        {
            "cell_type": "markdown",
            "metadata": {},
            "source": "New York is a popular destination for new muslim Traveler either for vacation or for study and soem also for work . As a result, it is one of the most diverse and will consider as a hot spot for halal places. Although number of muslim is still few to count as the other religion in New York"
        },
        {
            "cell_type": "markdown",
            "metadata": {},
            "source": "## Methodology"
        },
        {
            "cell_type": "markdown",
            "metadata": {},
            "source": "*  **Foursquare API:**\nThis project would use Four-square API as its prime data gathering source as it has a database of millions of places, especially their places API which provides the ability to perform location search, location sharing and details about a business.\n\n*  **Work Flow:**\nUsing credentials of Foursquare API features of near-by places of the neighborhoods would be mined. Due to http request limitations the number of places per neighborhood parameter would reasonably be set to 100 and the radius parameter would be set to 500.\n\n* **Clustering Approach:**\nTo compare the similarities of two cities, we decided to explore neighborhoods, segment them, and group them into clusters to find similar neighborhoods in a big city like New York and Toronto. To be able to do that, we need to cluster data which is a form of unsupervised machine learning: k-means clustering algorithm\n\n*  **Libraries Which are Used to Develope the Project:**\n\n   &nbsp; &nbsp; 1.Pandas: For creating and manipulating dataframes.\n\n   &nbsp; &nbsp; 2.Folium: Python visualization library would be used to visualize the neighborhoods cluster distribution of using interactive leaflet map.\n\n   &nbsp; &nbsp; 3.Scikit Learn: For importing k-means clustering.\n\n   &nbsp; &nbsp; 4.JSON: Library to handle JSON files.\n\n   &nbsp; &nbsp; 5.XML: To separate data from presentation and XML stores data in plain text format.\n\n   &nbsp; &nbsp; 6.Geocoder: To retrieve Location Data.\n\n   &nbsp; &nbsp; 7.Beautiful Soup and Requests: To scrap and library to handle http requests.\n\n   &nbsp; &nbsp; 8.Matplotlib: Python Plotting Module.\n"
        },
        {
            "cell_type": "code",
            "execution_count": null,
            "metadata": {},
            "outputs": [],
            "source": ""
        }
    ],
    "metadata": {
        "kernelspec": {
            "display_name": "Python 3.6",
            "language": "python",
            "name": "python3"
        },
        "language_info": {
            "codemirror_mode": {
                "name": "ipython",
                "version": 3
            },
            "file_extension": ".py",
            "mimetype": "text/x-python",
            "name": "python",
            "nbconvert_exporter": "python",
            "pygments_lexer": "ipython3",
            "version": "3.6.9"
        }
    },
    "nbformat": 4,
    "nbformat_minor": 1
}